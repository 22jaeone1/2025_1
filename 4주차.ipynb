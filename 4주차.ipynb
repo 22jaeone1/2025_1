{
  "nbformat": 4,
  "nbformat_minor": 0,
  "metadata": {
    "colab": {
      "private_outputs": true,
      "provenance": [],
      "authorship_tag": "ABX9TyPBGgJLABiLRhOajPL9s/69",
      "include_colab_link": true
    },
    "kernelspec": {
      "name": "python3",
      "display_name": "Python 3"
    },
    "language_info": {
      "name": "python"
    }
  },
  "cells": [
    {
      "cell_type": "markdown",
      "metadata": {
        "id": "view-in-github",
        "colab_type": "text"
      },
      "source": [
        "<a href=\"https://colab.research.google.com/github/22jaeone1/2025_1/blob/main/4%EC%A3%BC%EC%B0%A8.ipynb\" target=\"_parent\"><img src=\"https://colab.research.google.com/assets/colab-badge.svg\" alt=\"Open In Colab\"/></a>"
      ]
    },
    {
      "cell_type": "markdown",
      "source": [
        "스택의 구현"
      ],
      "metadata": {
        "id": "BEkVYluzOjzN"
      }
    },
    {
      "cell_type": "code",
      "execution_count": null,
      "metadata": {
        "id": "W3442XP_2mZB"
      },
      "outputs": [],
      "source": [
        "class Stack :\n",
        "    def __init__(self): # 생성자 함수\n",
        "        self.top = []\n",
        "\n",
        "    def push(self, item):\n",
        "        self.top.append(item)\n",
        "\n",
        "    def pop(self):\n",
        "        # return self.top.pop()\n",
        "        if not self.isEmpty():\n",
        "            return self.top.pop()\n",
        "\n",
        "    def peek(self):\n",
        "        return self.top[-1]\n",
        "\n",
        "    def isEmpty(self):\n",
        "       # if len(self.top) == 0:\n",
        "       #     return True\n",
        "       # else:\n",
        "       #     return False\n",
        "       return len(self.top) == 0\n",
        "\n",
        "    def size(self):\n",
        "        return len(self.top)\n",
        "\n",
        "    def clear(self):\n",
        "        self.top = []\n",
        "\n",
        "    def __str__(self):\n",
        "        return str(self.top)\n",
        "\n",
        "s1 = Stack()\n",
        "s2 = Stack()\n",
        "\n",
        "for i in range(5):\n",
        "    s1.push(i)\n",
        "for i in range(100, 400,100):\n",
        "    s2.push(i)\n",
        "print(s1.pop())\n",
        "print(s2)"
      ]
    },
    {
      "cell_type": "markdown",
      "source": [
        "괄호 검사알고리즘"
      ],
      "metadata": {
        "id": "9quzis21ObbS"
      }
    },
    {
      "cell_type": "code",
      "source": [
        "class Stack :\n",
        "    def __init__(self): # 생성자 함수\n",
        "        self.top = []\n",
        "\n",
        "    def push(self, item):\n",
        "        self.top.append(item)\n",
        "\n",
        "    def pop(self):\n",
        "        if not self.isEmpty():\n",
        "            return self.top.pop()\n",
        "\n",
        "    def peek(self):\n",
        "        return self.top[-1]\n",
        "\n",
        "    def isEmpty(self):\n",
        "       return len(self.top) == 0\n",
        "\n",
        "    def size(self):\n",
        "        return len(self.top)\n",
        "\n",
        "    def clear(self):\n",
        "        self.top = []\n",
        "\n",
        "    def __str__(self):\n",
        "        return str(self.top)\n",
        "\n",
        "def checkBrackets(s):\n",
        "    stack = Stack()\n",
        "    for ch in s:\n",
        "        if ch in '[{(':\n",
        "            stack.push(ch)\n",
        "        elif ch in ']})':\n",
        "            if stack.isEmpty():\n",
        "                return False\n",
        "            leftB = stack.pop()\n",
        "            if leftB == '[' and ch != ']' :\n",
        "                return False\n",
        "            if leftB == '{' and ch != '}' :\n",
        "                return False\n",
        "            if leftB == '(' and ch != ')' :\n",
        "                return False\n",
        "    return stack.isEmpty()\n",
        "\n",
        "print(checkBrackets(\"if ((A[i+1]) == (i+1))\"))"
      ],
      "metadata": {
        "id": "SsaZvrK9KteL"
      },
      "execution_count": null,
      "outputs": []
    },
    {
      "cell_type": "code",
      "source": [],
      "metadata": {
        "id": "BqsQfYQePrrq"
      },
      "execution_count": null,
      "outputs": []
    }
  ]
}